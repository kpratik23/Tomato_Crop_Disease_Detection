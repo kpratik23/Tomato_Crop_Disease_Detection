{
 "cells": [
  {
   "cell_type": "markdown",
   "metadata": {
    "id": "x3kcm7XzL0qk"
   },
   "source": [
    "**Importing Libraries**"
   ]
  },
  {
   "cell_type": "code",
   "execution_count": null,
   "metadata": {
    "id": "l0V5IPLcA8Tx"
   },
   "outputs": [],
   "source": [
    "import os\n",
    "import time\n",
    "import random\n",
    "import math\n",
    "import tqdm\n",
    "from tqdm import tqdm\n",
    "import numpy as np\n",
    "import matplotlib\n",
    "import matplotlib.pyplot as plt\n",
    "import cv2\n",
    "import PIL\n",
    "from PIL import Image,ImageEnhance,ImageOps,ImageFilter\n",
    "import tensorflow as tf\n",
    "import keras\n",
    "from keras import backend as K\n",
    "from keras.optimizers import Adam\n",
    "from keras.models import Model,Sequential\n",
    "from keras.layers import Dense,Flatten,Dropout\n",
    "from keras.applications import MobileNet\n",
    "from keras.optimizers import Adam"
   ]
  },
  {
   "cell_type": "markdown",
   "metadata": {
    "id": "oTiB3BP4L9NX"
   },
   "source": [
    "**Defining Paths**"
   ]
  },
  {
   "cell_type": "code",
   "execution_count": null,
   "metadata": {
    "id": "7LtgXW_8BDwZ"
   },
   "outputs": [],
   "source": [
    "root_path=os.getcwd()\n",
    "train_path=root_path+r\"/tomato/train/\"\n",
    "validation_path=root_path+r\"/tomato/val/\""
   ]
  },
  {
   "cell_type": "markdown",
   "metadata": {
    "id": "FfwlhQVtMBmE"
   },
   "source": [
    "**Printing Datset Summary**"
   ]
  },
  {
   "cell_type": "code",
   "execution_count": null,
   "metadata": {
    "colab": {
     "base_uri": "https://localhost:8080/"
    },
    "id": "Dd7Rt7guEqO6",
    "outputId": "4e13d0ab-427a-4102-b5b5-764ac2ffc1f5"
   },
   "outputs": [
    {
     "name": "stdout",
     "output_type": "stream",
     "text": [
      "---------------------------------------------------------------------------------------------------- \n",
      "\n"
     ]
    },
    {
     "name": "stderr",
     "output_type": "stream",
     "text": [
      "100%|██████████| 10/10 [00:00<00:00, 6404.50it/s]\n"
     ]
    },
    {
     "name": "stdout",
     "output_type": "stream",
     "text": [
      "\n",
      "\n",
      "Total images :219\n",
      "\n",
      "Tomato___Early_blight---------------------------------------20\n",
      "Tomato___Spider_mites Two-spotted_spider_mite---------------20\n",
      "Tomato___Target_Spot----------------------------------------17\n",
      "Tomato___Late_blight----------------------------------------19\n",
      "Tomato___healthy--------------------------------------------20\n",
      "Tomato___Bacterial_spot-------------------------------------19\n",
      "Tomato___Tomato_Yellow_Leaf_Curl_Virus----------------------28\n",
      "Tomato___Tomato_mosaic_virus--------------------------------24\n",
      "Tomato___Leaf_Mold------------------------------------------27\n",
      "Tomato___Septoria_leaf_spot---------------------------------25\n",
      "\n",
      "---------------------------------------------------------------------------------------------------- \n",
      "\n"
     ]
    },
    {
     "name": "stderr",
     "output_type": "stream",
     "text": [
      "100%|██████████| 10/10 [00:00<00:00, 20350.82it/s]"
     ]
    },
    {
     "name": "stdout",
     "output_type": "stream",
     "text": [
      "\n",
      "\n",
      "Total images :219\n",
      "\n",
      "Tomato___Early_blight---------------------------------------20\n",
      "Tomato___Spider_mites Two-spotted_spider_mite---------------20\n",
      "Tomato___Target_Spot----------------------------------------17\n",
      "Tomato___Late_blight----------------------------------------19\n",
      "Tomato___healthy--------------------------------------------20\n",
      "Tomato___Bacterial_spot-------------------------------------19\n",
      "Tomato___Tomato_Yellow_Leaf_Curl_Virus----------------------28\n",
      "Tomato___Tomato_mosaic_virus--------------------------------24\n",
      "Tomato___Leaf_Mold------------------------------------------27\n",
      "Tomato___Septoria_leaf_spot---------------------------------25\n",
      "\n"
     ]
    },
    {
     "name": "stderr",
     "output_type": "stream",
     "text": [
      "\n"
     ]
    }
   ],
   "source": [
    "def print_dataset_summary(dataset_path):\n",
    "\n",
    "    print(\"-\"*100,\"\\n\")\n",
    "\n",
    "    count = 0\n",
    "\n",
    "    class_count = {}\n",
    "\n",
    "    for dirs in tqdm(os.listdir(dataset_path)):\n",
    "        for files in os.listdir(dataset_path + dirs):\n",
    "            class_count.setdefault(dirs, 0)\n",
    "            class_count[dirs] += 1\n",
    "            count += 1\n",
    "\n",
    "    print(\"\\n\\nTotal images :{}\\n\".format(count))\n",
    "\n",
    "    total_length = 60\n",
    "\n",
    "    for item in class_count:\n",
    "        print(item + \"-\" * (total_length - len(item)) + str(class_count[item]))\n",
    "    print()\n",
    "\n",
    "print_dataset_summary(train_path)\n",
    "print_dataset_summary(validation_path)"
   ]
  },
  {
   "cell_type": "markdown",
   "metadata": {
    "id": "1qvMiWJXMI4x"
   },
   "source": [
    "**Defining Classes**"
   ]
  },
  {
   "cell_type": "code",
   "execution_count": null,
   "metadata": {
    "id": "_n8mFqjEI0f0"
   },
   "outputs": [],
   "source": [
    "CLASSES=[\n",
    "            'Tomato___Bacterial_spot',\n",
    "            'Tomato___Early_blight',\n",
    "            'Tomato___healthy',\n",
    "            'Tomato___Late_blight',\n",
    "            'Tomato___Leaf_Mold',\n",
    "            'Tomato___Septoria_leaf_spot',\n",
    "            'Tomato___Spider_mites_Two_spotted_spider_mite',\n",
    "            'Tomato___Target_Spot',\n",
    "            'Tomato___Tomato_mosaic_virus',\n",
    "            'Tomato___Tomato_Yellow_Leaf_Curl_Virus'\n",
    "]"
   ]
  },
  {
   "cell_type": "markdown",
   "metadata": {
    "id": "9wGH9KD4MMQ5"
   },
   "source": [
    "**Creating Train and Validation Files**"
   ]
  },
  {
   "cell_type": "code",
   "execution_count": null,
   "metadata": {
    "colab": {
     "base_uri": "https://localhost:8080/"
    },
    "id": "zc0ENLjSIshR",
    "outputId": "fee80bc0-b5b3-4f7f-a508-3be835c7019b"
   },
   "outputs": [
    {
     "name": "stderr",
     "output_type": "stream",
     "text": [
      "100%|██████████| 11/11 [00:00<00:00, 1242.05it/s]\n"
     ]
    },
    {
     "name": "stdout",
     "output_type": "stream",
     "text": [
      "\n",
      "Successfully created train.txt\n",
      "\n"
     ]
    },
    {
     "name": "stderr",
     "output_type": "stream",
     "text": [
      "100%|██████████| 11/11 [00:00<00:00, 1764.06it/s]"
     ]
    },
    {
     "name": "stdout",
     "output_type": "stream",
     "text": [
      "\n",
      "Successfully created val.txt\n"
     ]
    },
    {
     "name": "stderr",
     "output_type": "stream",
     "text": [
      "\n"
     ]
    }
   ],
   "source": [
    "def create_files(train_path,validation_path,class_list):\n",
    "\n",
    "    with open(\"train.txt\",\"w\") as train_file:\n",
    "\n",
    "        for dirs in tqdm(os.listdir(train_path)):\n",
    "            for images in os.listdir(train_path+dirs):\n",
    "                image_path=train_path+dirs+\"/\"+images+\",\"+dirs\n",
    "                train_file.writelines(image_path+\"\\n\")\n",
    "\n",
    "        print(\"\\nSuccessfully created train.txt\\n\")\n",
    "        time.sleep(0.1)\n",
    "\n",
    "\n",
    "    with open(\"val.txt\",\"w\") as validation_file:\n",
    "\n",
    "        for dirs in tqdm(os.listdir(validation_path)):\n",
    "            for images in os.listdir(validation_path+dirs):\n",
    "                image_path=validation_path+dirs+\"/\"+images+\",\"+dirs\n",
    "                validation_file.writelines(image_path+\"\\n\")\n",
    "\n",
    "        print(\"\\nSuccessfully created val.txt\")\n",
    "\n",
    "create_files(train_path,validation_path,CLASSES)"
   ]
  },
  {
   "cell_type": "markdown",
   "metadata": {
    "id": "vfHl1uNhMRIi"
   },
   "source": [
    "**Testing Our Files**"
   ]
  },
  {
   "cell_type": "code",
   "execution_count": null,
   "metadata": {
    "id": "1OVl1ELxJDks"
   },
   "outputs": [],
   "source": [
    "def test_images(file_path,total_images):\n",
    "\n",
    "    with open(file_path,\"r\") as test_file:\n",
    "\n",
    "            for lines in test_file.readlines()[:total_images]:\n",
    "                curr_image_path=lines.replace(\"\\n\",\"\").split(\",\")\n",
    "\n",
    "                image=Image.open(curr_image_path[0])\n",
    "                plt.title(curr_image_path[-1])\n",
    "                plt.imshow(image)\n",
    "                plt.show()"
   ]
  },
  {
   "cell_type": "markdown",
   "metadata": {
    "id": "q5gOG1urMlV7"
   },
   "source": [
    "**Class for Image Augmentation**"
   ]
  },
  {
   "cell_type": "code",
   "execution_count": null,
   "metadata": {
    "id": "-qHAXBTsLj6_"
   },
   "outputs": [],
   "source": [
    "class Augmentation():\n",
    "\n",
    "    def __init__(self):\n",
    "\n",
    "        self.zoom_percentage=0.3\n",
    "\n",
    "    def get_prob(self):\n",
    "        return random.random()\n",
    "\n",
    "    def enhance(self,image):\n",
    "\n",
    "        self.factor = random.uniform(1,1.5)\n",
    "\n",
    "        if (self.get_prob()>0.4):\n",
    "            image=ImageEnhance.Brightness(image).enhance(self.factor)\n",
    "\n",
    "        if (self.get_prob()>0.5):\n",
    "            image=ImageEnhance.Contrast(image).enhance(self.factor)\n",
    "\n",
    "        if (self.get_prob()>0.4):\n",
    "            image=ImageEnhance.Sharpness(image).enhance(self.factor)\n",
    "\n",
    "        return image\n",
    "\n",
    "    def rotate(self,image):\n",
    "\n",
    "        self.degree = random.choice([90,180,270])\n",
    "        return image.rotate(self.degree)\n",
    "\n",
    "    def flip(self,image):\n",
    "\n",
    "        if (self.get_prob()>0.3):\n",
    "            image = image.transpose(Image.FLIP_LEFT_RIGHT)\n",
    "\n",
    "        if (self.get_prob()>0.4):\n",
    "            image=image.transpose(Image.FLIP_TOP_BOTTOM)\n",
    "\n",
    "        return image\n",
    "\n",
    "    def enlarge(self,image):\n",
    "\n",
    "        W,H=image.size\n",
    "\n",
    "        orig_area=W*H\n",
    "\n",
    "        width=math.ceil(math.sqrt(orig_area*(1-self.zoom_percentage)))\n",
    "        height=width\n",
    "\n",
    "        x1=max(math.ceil((W-width)/2),0)\n",
    "        y1=max(math.ceil((W-width)/2),0)\n",
    "        x2=min(math.ceil(width+(W-width)/2),W)\n",
    "        y2=min(math.ceil(height+(W-width)/2),H)\n",
    "\n",
    "        image=image.crop((x1,y1,x2,y2))\n",
    "\n",
    "        return image\n",
    "\n",
    "    def transform(self,image):\n",
    "\n",
    "        if (self.get_prob()>0.3):\n",
    "            image=self.rotate(image)\n",
    "\n",
    "        if (self.get_prob()>0.4):\n",
    "            image=self.flip(image)\n",
    "\n",
    "        if (self.get_prob()>0.2):\n",
    "            image=self.enhance(image)\n",
    "\n",
    "        if (self.get_prob()>0.3):\n",
    "            image=self.enlarge(image)\n",
    "\n",
    "        return image\n"
   ]
  },
  {
   "cell_type": "markdown",
   "metadata": {
    "id": "tzaN4UOxMz1B"
   },
   "source": [
    "**DataGenerator Class**"
   ]
  },
  {
   "cell_type": "code",
   "execution_count": null,
   "metadata": {
    "id": "AtipQoibM3xe"
   },
   "outputs": [],
   "source": [
    "class DataGenerator(tf.keras.utils.Sequence,Augmentation):\n",
    "\n",
    "    def __init__(self,labels,mode):\n",
    "        self.mode=mode\n",
    "        self.batch_size=4\n",
    "        self.labels=labels\n",
    "        self.all_images=[]\n",
    "        self.all_classes=[]\n",
    "        self.target_size=(224,224,3)\n",
    "\n",
    "        super().__init__()\n",
    "\n",
    "        self.CLASSES=[\n",
    "            'Tomato___Bacterial_spot',\n",
    "            'Tomato___Early_blight',\n",
    "            'Tomato___healthy',\n",
    "            'Tomato___Late_blight',\n",
    "            'Tomato___Leaf_Mold',\n",
    "            'Tomato___Septoria_leaf_spot',\n",
    "            'Tomato___Spider_mites_Two_spotted_spider_mite',\n",
    "            'Tomato___Target_Spot',\n",
    "            'Tomato___Tomato_mosaic_virus',\n",
    "            'Tomato___Tomato_Yellow_Leaf_Curl_Virus'\n",
    "]\n",
    "\n",
    "        with open(labels,\"r+\") as f:\n",
    "            contents=f.readlines()\n",
    "            random.shuffle(contents)\n",
    "            for lines in contents:\n",
    "                lines=lines.replace(\"\\n\",\"\").split(\",\")\n",
    "                self.all_images.append(lines[0])\n",
    "                # print(lines[-1])\n",
    "                self.all_classes.append(self.CLASSES.index(lines[-1]))\n",
    "\n",
    "    def generate_index(self,idx):\n",
    "        return (self.all_images[idx*self.batch_size:self.batch_size*idx+self.batch_size] ,\n",
    "                    self.all_classes[idx*self.batch_size:self.batch_size*idx+self.batch_size])\n",
    "\n",
    "    def preprocess(self,image):\n",
    "        # image=image.resize((self.target_size[0],self.target_size[1]))\n",
    "        if (self.mode):\n",
    "            image=self.transform(image)\n",
    "\n",
    "        image=ImageEnhance.Sharpness(image).enhance(3) # Sharpening Each Image of train set\n",
    "\n",
    "        image=image.resize((self.target_size[0],self.target_size[1]))\n",
    "        image=np.array(image)\n",
    "        image=image/image.max()\n",
    "        return image\n",
    "\n",
    "    def shuffle(self,images,labels):\n",
    "\n",
    "        temp_list=list(zip(images,labels))\n",
    "        random.shuffle(temp_list)\n",
    "        self.all_images,self.all_classes=zip(*temp_list)\n",
    "\n",
    "\n",
    "\n",
    "    def get_images_with_labels(self,idx):\n",
    "\n",
    "        im_path,cls=self.generate_index(idx)\n",
    "\n",
    "        self.images=[]\n",
    "        self.cls=[]\n",
    "\n",
    "        for fname,label in zip(im_path,cls):\n",
    "            image=Image.open(fname).convert(\"RGB\")\n",
    "            image=self.preprocess(image)\n",
    "            self.images.append(np.array(image))\n",
    "            zeros=np.zeros(10)\n",
    "            zeros[label]=1.0\n",
    "            self.cls.append(zeros)\n",
    "\n",
    "        return (\n",
    "                np.asarray(self.images).reshape(self.batch_size,self.target_size[0],self.target_size[1],self.target_size[2]),\n",
    "                np.asarray(self.cls).reshape(self.batch_size,-1)\n",
    "                )\n",
    "\n",
    "\n",
    "    def __getitem__(self,index):\n",
    "\n",
    "        images,labels=self.get_images_with_labels(index)\n",
    "        return (images,labels)\n",
    "\n",
    "    def __len__(self):\n",
    "        return len(self.all_images)//self.batch_size\n",
    "\n",
    "\n",
    "    def on_epoch_end(self):\n",
    "      self.shuffle(self.all_images,self.all_classes)\n",
    "\n"
   ]
  },
  {
   "cell_type": "markdown",
   "metadata": {
    "id": "5sEr_plSNj8s"
   },
   "source": [
    "**Initializing Train Generator**"
   ]
  },
  {
   "cell_type": "code",
   "execution_count": null,
   "metadata": {
    "id": "ueNV6_YSNQvJ"
   },
   "outputs": [],
   "source": [
    "train_generator=DataGenerator(\"train.txt\",1)"
   ]
  },
  {
   "cell_type": "markdown",
   "metadata": {
    "id": "fAfPkus-OyP_"
   },
   "source": [
    "**Testing Our train Generator**"
   ]
  },
  {
   "cell_type": "code",
   "execution_count": null,
   "metadata": {
    "id": "KFvH2STcOKL-"
   },
   "outputs": [],
   "source": [
    "(images,labels)=train_generator.__getitem__(0)\n",
    "\n",
    "for image,label in zip(images,labels):\n",
    "    plt.imshow(image)\n",
    "    plt.title(CLASSES[np.argmax(label)])\n",
    "    plt.show()"
   ]
  },
  {
   "cell_type": "markdown",
   "metadata": {
    "id": "HSozOg8NO5Bh"
   },
   "source": [
    "**Initializing Validation Generator**"
   ]
  },
  {
   "cell_type": "code",
   "execution_count": null,
   "metadata": {
    "id": "i5_2RhlzO831"
   },
   "outputs": [],
   "source": [
    "val_generator=DataGenerator(\"val.txt\",0)"
   ]
  },
  {
   "cell_type": "code",
   "execution_count": null,
   "metadata": {
    "id": "d29kqefvPDrt"
   },
   "outputs": [],
   "source": [
    "(images,labels)=val_generator.__getitem__(1)\n",
    "print(images.shape)\n",
    "print(labels.shape)\n",
    "for image,label in zip(images,labels):\n",
    "    plt.imshow(image)\n",
    "    plt.title(CLASSES[np.argmax(label)])\n",
    "    plt.show()"
   ]
  },
  {
   "cell_type": "markdown",
   "metadata": {
    "id": "VfumhJt7SoEW"
   },
   "source": [
    "**Defining Model (MobileNet)**"
   ]
  },
  {
   "cell_type": "code",
   "execution_count": null,
   "metadata": {
    "colab": {
     "base_uri": "https://localhost:8080/"
    },
    "id": "ur3w9siZSndB",
    "outputId": "0a2e1645-7d6b-4554-a26b-82826e6f29e0"
   },
   "outputs": [
    {
     "name": "stdout",
     "output_type": "stream",
     "text": [
      "Downloading data from https://storage.googleapis.com/tensorflow/keras-applications/mobilenet/mobilenet_1_0_224_tf_no_top.h5\n",
      "17225924/17225924 [==============================] - 0s 0us/step\n"
     ]
    }
   ],
   "source": [
    "base_model=MobileNet(weights='imagenet',include_top=False,input_shape=(224,224,3))\n",
    "\n",
    "# Freezing all the layers of the base model\n",
    "\n",
    "for layers in base_model.layers:\n",
    "    layers.trainable=False"
   ]
  },
  {
   "cell_type": "markdown",
   "metadata": {
    "id": "TfEtQGelS4HH"
   },
   "source": [
    "**Adding Dense Layers**"
   ]
  },
  {
   "cell_type": "code",
   "execution_count": null,
   "metadata": {
    "id": "gOyjDdqHS2jD"
   },
   "outputs": [],
   "source": [
    "# last_layer = base_model.output\n",
    "x = base_model.output\n",
    "\n",
    "x=Flatten()(x)\n",
    "x=Dense(1024,activation='relu')(x)\n",
    "x=Dropout(0.2)(x)\n",
    "preds=Dense(10,activation='softmax')(x)\n",
    "\n",
    "model=Model(inputs=base_model.input,outputs=preds)\n",
    "model.compile(optimizer=Adam(learning_rate=0.001),loss='categorical_crossentropy',metrics=['accuracy'])"
   ]
  },
  {
   "cell_type": "code",
   "execution_count": null,
   "metadata": {
    "id": "iQdZE1cUft7p"
   },
   "outputs": [],
   "source": [
    "model.summary()"
   ]
  },
  {
   "cell_type": "markdown",
   "metadata": {
    "id": "P6ZlihxhTquQ"
   },
   "source": [
    "**Creating folder for saving model checkpoints**"
   ]
  },
  {
   "cell_type": "code",
   "execution_count": null,
   "metadata": {
    "id": "FP0lPofOTmg0"
   },
   "outputs": [],
   "source": [
    "!mkdir \"/checkpoint/\""
   ]
  },
  {
   "cell_type": "markdown",
   "metadata": {
    "id": "f4_0P-isT47F"
   },
   "source": [
    "**Defining Callbacks**"
   ]
  },
  {
   "cell_type": "code",
   "execution_count": null,
   "metadata": {
    "id": "Wa9mxdqDT4FN"
   },
   "outputs": [],
   "source": [
    "checkpoint_filepath = '/checkpoint/model-epoch:{epoch:03d}-val_accuracy:{val_accuracy:.4f}.h5'\n",
    "model_checkpoint_callback = tf.keras.callbacks.ModelCheckpoint(\n",
    "    filepath=checkpoint_filepath,\n",
    "    save_weights_only=False,\n",
    "    monitor='val_accuracy',\n",
    "    mode='max',\n",
    "    save_best_only=True)\n",
    "\n",
    "callbacks=[model_checkpoint_callback]"
   ]
  },
  {
   "cell_type": "markdown",
   "metadata": {
    "id": "ckesi-MuTbY1"
   },
   "source": [
    "**Fitting the model on the train data (Training starts here...)**"
   ]
  },
  {
   "cell_type": "code",
   "execution_count": null,
   "metadata": {
    "id": "H9aoG6hSTajj"
   },
   "outputs": [],
   "source": [
    "history=model.fit(train_generator,\n",
    "          validation_data=val_generator,\n",
    "          steps_per_epoch=len(train_generator),\n",
    "          validation_steps=len(val_generator),\n",
    "          callbacks=callbacks,\n",
    "          epochs=100)"
   ]
  },
  {
   "cell_type": "code",
   "execution_count": null,
   "metadata": {
    "id": "6atmZqUTzMyl"
   },
   "outputs": [],
   "source": [
    "plt.plot(history.history['accuracy'])\n",
    "plt.plot(history.history['val_accuracy'])\n",
    "plt.title('model accuracy')\n",
    "plt.ylabel('accuracy')\n",
    "plt.xlabel('epoch')\n",
    "plt.legend(['train', 'val'], loc='upper left')\n",
    "plt.show()"
   ]
  },
  {
   "cell_type": "code",
   "execution_count": null,
   "metadata": {
    "id": "37xB9-DrzPkd"
   },
   "outputs": [],
   "source": [
    "plt.plot(history.history['loss'])\n",
    "plt.plot(history.history['val_loss'])\n",
    "plt.title('model loss')\n",
    "plt.ylabel('loss')\n",
    "plt.xlabel('epoch')\n",
    "plt.legend(['train', 'val'], loc='upper left')\n",
    "plt.show()"
   ]
  },
  {
   "cell_type": "code",
   "execution_count": null,
   "metadata": {
    "id": "f3mvmxO6UWxg"
   },
   "outputs": [],
   "source": [
    "def test_on_images(image_path):\n",
    "\n",
    "    image=Image.open(image_path).convert(\"RGB\")\n",
    "    print(image.mode)\n",
    "    image=image.resize((224,224))\n",
    "    image=ImageEnhance.Sharpness(image).enhance(2)\n",
    "    # image= image.filter(ImageFilter.GaussianBlur(radius = 2))\n",
    "    image=np.array(image).reshape(-1,224,224,3)\n",
    "    image=image/image.max()\n",
    "\n",
    "    prediction=model.predict(image)\n",
    "    accuracy=round(np.max(prediction)*100,3)\n",
    "    prediction=CLASSES[np.argmax(prediction)]\n",
    "    plt.imshow(image.reshape(224,224,3))\n",
    "    plt.title(prediction+\":\"+str(accuracy)+\"%\")\n",
    "    plt.show()"
   ]
  }
 ],
 "metadata": {
  "colab": {
   "provenance": []
  },
  "gpuClass": "standard",
  "kernelspec": {
   "display_name": "Python 3 (ipykernel)",
   "language": "python",
   "name": "python3"
  },
  "language_info": {
   "codemirror_mode": {
    "name": "ipython",
    "version": 3
   },
   "file_extension": ".py",
   "mimetype": "text/x-python",
   "name": "python",
   "nbconvert_exporter": "python",
   "pygments_lexer": "ipython3",
   "version": "3.9.13"
  }
 },
 "nbformat": 4,
 "nbformat_minor": 1
}
